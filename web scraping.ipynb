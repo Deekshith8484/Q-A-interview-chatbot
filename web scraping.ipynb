{
 "nbformat": 4,
 "nbformat_minor": 0,
 "metadata": {
  "colab": {
   "provenance": []
  },
  "kernelspec": {
   "name": "python3",
   "language": "python",
   "display_name": "Python 3 (ipykernel)"
  },
  "language_info": {
   "name": "python"
  }
 },
 "cells": [
  {
   "cell_type": "code",
   "execution_count": null,
   "metadata": {
    "id": "lX50cObltVf_",
    "executionInfo": {
     "status": "ok",
     "timestamp": 1699802684743,
     "user_tz": -330,
     "elapsed": 2026,
     "user": {
      "displayName": "CHETHAN N PATIL",
      "userId": "18296418124957827858"
     }
    },
    "is_executing": true,
    "ExecuteTime": {
     "start_time": "2024-01-05T21:47:32.466540900Z"
    }
   },
   "outputs": [],
   "source": [
    "import pandas as pd\n",
    "import requests\n",
    "import bs4 as bfs\n",
    "import nltk\n",
    "from nltk.tokenize import sent_tokenize\n",
    "from nltk.tokenize import word_tokenize\n",
    "from nltk.corpus import stopwords\n",
    "from nltk.tokenize import word_tokenize\n",
    "from nltk.sentiment.vader import SentimentIntensityAnalyzer\n",
    "import string\n",
    "from textblob import TextBlob\n",
    "import csv\n",
    "import numpy as np\n",
    "import lxml\n",
    "import requests\n",
    "from bs4 import BeautifulSoup\n",
    "import re"
   ]
  },
  {
   "cell_type": "code",
   "execution_count": 7,
   "outputs": [
    {
     "name": "stderr",
     "output_type": "stream",
     "text": [
      "C:\\Users\\kmdee\\AppData\\Local\\Temp\\ipykernel_33848\\1577113644.py:35: DeprecationWarning: The 'text' argument to find()-type methods is deprecated. Use 'string' instead.\n",
      "  first_question = soup.find('h4', text=question_text).find_next('h4')\n"
     ]
    }
   ],
   "source": [
    "\n",
    "# Send a GET request to the URL\n",
    "url = 'https://hackr.io/blog/data-science-interview-questions'\n",
    "response = requests.get(url)\n",
    "\n",
    "if response.status_code == 200:\n",
    "    soup = BeautifulSoup(response.text, 'html.parser')\n",
    "\n",
    "    # Find all sections containing questions and answers\n",
    "    qa_sections = soup.find('div', class_='container py-24')\n",
    "    \n",
    "questions = []\n",
    "answers = []\n",
    "lis=[]\n",
    "# Find the first question\n",
    "first_question = soup.find('h4')\n",
    "\n",
    "while first_question:\n",
    "    question_text = first_question.text\n",
    "    questions.append(question_text)\n",
    "\n",
    "    # Find all following <p> tags until the next <h2> (next question) or None\n",
    "    answer_paragraphs = []\n",
    "    list=[]\n",
    "    next_element = first_question.find_next_sibling()\n",
    "    while next_element and next_element.name != 'h4':\n",
    "         if next_element.name == 'p':\n",
    "            answer_paragraphs.append(next_element.text.strip())\n",
    "         next_element = next_element.find_next_sibling()\n",
    "\n",
    "    # Combine paragraphs into a single answer sentence or paragraph\n",
    "    answer_text = ' '.join(answer_paragraphs)\n",
    "    answers.append(answer_text)\n",
    "\n",
    "    # Find the next question to continue the loop\n",
    "    first_question = soup.find('h4', text=question_text).find_next('h4')\n",
    "# Display the scraped data\n",
    "with open('data_science_ q and a .csv', mode='w', newline='', encoding='utf-8') as file:\n",
    "        writer = csv.writer(file)\n",
    "        writer.writerow(['Question', 'Answer'])  # Write header row\n",
    "        \n",
    "        # Write each cleaned question and answer as a row in the CSV file\n",
    "        for q, a in zip(questions, answers):\n",
    "           writer.writerow([q, a])"
   ],
   "metadata": {
    "collapsed": false,
    "ExecuteTime": {
     "end_time": "2023-12-07T14:00:14.038813800Z",
     "start_time": "2023-12-07T14:00:00.802079800Z"
    }
   }
  },
  {
   "cell_type": "code",
   "execution_count": 14,
   "outputs": [
    {
     "name": "stdout",
     "output_type": "stream",
     "text": [
      "Data saved to data_science_interview.csv successfully.\n"
     ]
    }
   ],
   "source": [
    "\n",
    "# Replace with the path to your GeckoDriver executable\n",
    "gecko_driver_path = \"C:\\\\Users\\\\kmdee\\\\OneDrive\\\\Desktop\\\\geckodriver.exe\"\n",
    "\n",
    "\n",
    "\n",
    "import csv\n",
    "import time\n",
    "from selenium import webdriver\n",
    "from selenium.webdriver.common.by import By\n",
    "from selenium.webdriver.support.ui import WebDriverWait\n",
    "from selenium.webdriver.support import expected_conditions as EC\n",
    "from selenium.webdriver.firefox.service import Service\n",
    "\n",
    "url = 'https://www.simplilearn.com/tutorials/data-science-tutorial/data-science-interview-questions'\n",
    "\n",
    "# Configure Firefox options (headless or not, etc.)\n",
    "options = webdriver.FirefoxOptions()\n",
    "options.headless = True  # Set to True if you don't want the browser to open\n",
    "\n",
    "# Initialize Firefox driver\n",
    "service=Service(gecko_driver_path)\n",
    "driver = webdriver.Firefox(service=service, options=options)\n",
    "\n",
    "# Set an implicit wait time for 10 seconds\n",
    "driver.implicitly_wait(10)\n",
    "\n",
    "# Load the webpage\n",
    "driver.get(url)\n",
    "\n",
    "# Attempt to find and extract the elements\n",
    "try:\n",
    "    # Find all question and answer elements\n",
    "    questions = driver.find_elements(By.CLASS_NAME, 'descriptive-question')\n",
    "    answers = driver.find_elements(By.CLASS_NAME, 'descriptive-answer')\n",
    "\n",
    "    # Extract text from question and answer elements\n",
    "    questions_text = [q.text for q in questions]\n",
    "    answers_text = [a.text for a in answers]\n",
    "\n",
    "    # Save data to a CSV file\n",
    "    with open('data_science_interview.csv', mode='w', newline='', encoding='utf-8') as file:\n",
    "        writer = csv.writer(file)\n",
    "        writer.writerow(['Question', 'Answer'])  # Write header row\n",
    "\n",
    "        # Write each question and answer as a row in the CSV file\n",
    "        for q, a in zip(questions_text, answers_text):\n",
    "            writer.writerow([q, a])\n",
    "\n",
    "    print(\"Data saved to data_science_interview.csv successfully.\")\n",
    "\n",
    "except Exception as e:\n",
    "    print(\"An error occurred:\", e)\n",
    "\n",
    "finally:\n",
    "    # Close the browser\n",
    "    driver.quit()"
   ],
   "metadata": {
    "collapsed": false,
    "ExecuteTime": {
     "end_time": "2023-12-02T13:08:09.336970600Z",
     "start_time": "2023-12-02T13:07:36.364335Z"
    }
   }
  },
  {
   "cell_type": "code",
   "source": [],
   "metadata": {
    "id": "bO2nwnrfuCn2"
   },
   "execution_count": null,
   "outputs": []
  },
  {
   "cell_type": "code",
   "source": [],
   "metadata": {
    "id": "562MC9KXuClA"
   },
   "execution_count": null,
   "outputs": []
  },
  {
   "cell_type": "code",
   "source": [],
   "metadata": {
    "id": "gXmUl5UEuCiH"
   },
   "execution_count": null,
   "outputs": []
  },
  {
   "cell_type": "code",
   "source": [],
   "metadata": {
    "id": "QMV7eKheuCe_"
   },
   "execution_count": null,
   "outputs": []
  },
  {
   "cell_type": "code",
   "source": [],
   "metadata": {
    "id": "bsDAi11uuCb7"
   },
   "execution_count": null,
   "outputs": []
  },
  {
   "cell_type": "code",
   "source": [],
   "metadata": {
    "id": "yloqLNAcuCZA"
   },
   "execution_count": null,
   "outputs": []
  },
  {
   "cell_type": "code",
   "source": [],
   "metadata": {
    "id": "2qnA4IqWuCWY"
   },
   "execution_count": null,
   "outputs": []
  },
  {
   "cell_type": "code",
   "source": [],
   "metadata": {
    "id": "D8NpzdswuCTf"
   },
   "execution_count": null,
   "outputs": []
  },
  {
   "cell_type": "code",
   "source": [],
   "metadata": {
    "id": "QhXgRWVFuCQZ"
   },
   "execution_count": null,
   "outputs": []
  },
  {
   "cell_type": "code",
   "source": [],
   "metadata": {
    "id": "Ux37TnXouCNY"
   },
   "execution_count": null,
   "outputs": []
  },
  {
   "cell_type": "code",
   "source": [],
   "metadata": {
    "id": "bhXe0v_2uCKQ"
   },
   "execution_count": null,
   "outputs": []
  },
  {
   "cell_type": "code",
   "source": [],
   "metadata": {
    "id": "t0t2xmdMuCHh"
   },
   "execution_count": null,
   "outputs": []
  },
  {
   "cell_type": "code",
   "source": [],
   "metadata": {
    "id": "2SGv-yt1uCEb"
   },
   "execution_count": null,
   "outputs": []
  },
  {
   "cell_type": "code",
   "source": [],
   "metadata": {
    "id": "2VTlqrBYuCBb"
   },
   "execution_count": null,
   "outputs": []
  },
  {
   "cell_type": "code",
   "source": [],
   "metadata": {
    "id": "BvBJ_wOiuB7-"
   },
   "execution_count": null,
   "outputs": []
  },
  {
   "cell_type": "code",
   "source": [],
   "metadata": {
    "id": "gz6NqBgQuB4x"
   },
   "execution_count": null,
   "outputs": []
  },
  {
   "cell_type": "code",
   "source": [],
   "metadata": {
    "id": "Vw9Y06zKuByh"
   },
   "execution_count": null,
   "outputs": []
  },
  {
   "cell_type": "code",
   "source": [],
   "metadata": {
    "id": "R3yCUrPvuBsi"
   },
   "execution_count": null,
   "outputs": []
  },
  {
   "cell_type": "code",
   "source": [],
   "metadata": {
    "id": "4DDACxx1uBpH"
   },
   "execution_count": null,
   "outputs": []
  },
  {
   "cell_type": "code",
   "source": [],
   "metadata": {
    "id": "YezLFCOFuBfl"
   },
   "execution_count": null,
   "outputs": []
  },
  {
   "cell_type": "code",
   "source": [],
   "metadata": {
    "id": "ZxPz3xbLuBVG"
   },
   "execution_count": null,
   "outputs": []
  },
  {
   "cell_type": "code",
   "source": [],
   "metadata": {
    "id": "Evaf1RA-uBG_"
   },
   "execution_count": null,
   "outputs": []
  },
  {
   "cell_type": "code",
   "source": [],
   "metadata": {
    "id": "BxKYc0LXuA5u"
   },
   "execution_count": null,
   "outputs": []
  },
  {
   "cell_type": "code",
   "source": [],
   "metadata": {
    "id": "EP-ME_89uAKy"
   },
   "execution_count": null,
   "outputs": []
  },
  {
   "cell_type": "code",
   "source": [],
   "metadata": {
    "id": "q70ZeAvst_0k"
   },
   "execution_count": null,
   "outputs": []
  }
 ]
}
